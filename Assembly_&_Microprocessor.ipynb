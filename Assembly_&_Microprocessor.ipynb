{
  "nbformat": 4,
  "nbformat_minor": 0,
  "metadata": {
    "colab": {
      "name": "Assembly & Microprocessor",
      "provenance": [],
      "authorship_tag": "ABX9TyMer3j31fSXD3qZ9s5iZAuw",
      "include_colab_link": true
    },
    "kernelspec": {
      "name": "python3",
      "display_name": "Python 3"
    },
    "language_info": {
      "name": "python"
    }
  },
  "cells": [
    {
      "cell_type": "markdown",
      "metadata": {
        "id": "view-in-github",
        "colab_type": "text"
      },
      "source": [
        "<a href=\"https://colab.research.google.com/github/rdkdaniel/Engineering--Arduino-Raspberry-Pi-etc/blob/main/Assembly_%26_Microprocessor.ipynb\" target=\"_parent\"><img src=\"https://colab.research.google.com/assets/colab-badge.svg\" alt=\"Open In Colab\"/></a>"
      ]
    },
    {
      "cell_type": "markdown",
      "source": [
        "Key links: https://tonybaloney.github.io/posts/extending-python-with-assembly.html\n",
        "\n",
        "https://specbranch.com/posts/python-and-asm/"
      ],
      "metadata": {
        "id": "YpLemnHXqYQC"
      }
    },
    {
      "cell_type": "markdown",
      "source": [
        "**Python extensions in assembly language**"
      ],
      "metadata": {
        "id": "NWPpxXSlqcqk"
      }
    },
    {
      "cell_type": "markdown",
      "source": [
        "**Python is similar to assembly langua**ge"
      ],
      "metadata": {
        "id": "RruUmX4Dq3Vo"
      }
    },
    {
      "cell_type": "code",
      "execution_count": null,
      "metadata": {
        "colab": {
          "base_uri": "https://localhost:8080/",
          "height": 133
        },
        "id": "9iUJuJOpFlPS",
        "outputId": "9940b1e7-17b6-41ba-f130-0f832f33b156"
      },
      "outputs": [
        {
          "output_type": "error",
          "ename": "SyntaxError",
          "evalue": "ignored",
          "traceback": [
            "\u001b[0;36m  File \u001b[0;32m\"<ipython-input-1-1ff4e59d8166>\"\u001b[0;36m, line \u001b[0;32m1\u001b[0m\n\u001b[0;31m    Key links: https://tonybaloney.github.io/posts/extending-python-with-assembly.html\u001b[0m\n\u001b[0m            ^\u001b[0m\n\u001b[0;31mSyntaxError\u001b[0m\u001b[0;31m:\u001b[0m invalid syntax\n"
          ]
        }
      ],
      "source": [
        "Key links: https://tonybaloney.github.io/posts/extending-python-with-assembly.html\n",
        "\n",
        "https://specbranch.com/posts/python-and-asm/"
      ]
    },
    {
      "cell_type": "markdown",
      "source": [
        "# **Assembly, Disassembly and Emulation using Python**"
      ],
      "metadata": {
        "id": "vL_9XFYXt6c7"
      }
    },
    {
      "cell_type": "code",
      "source": [
        "#https://www.thepythoncode.com/article/arm-x86-64-assembly-disassembly-and-emulation-in-python"
      ],
      "metadata": {
        "id": "QiSejenyt7h7"
      },
      "execution_count": 1,
      "outputs": []
    },
    {
      "cell_type": "code",
      "source": [
        "!pip3 install keystone-engine capstone unicorn"
      ],
      "metadata": {
        "colab": {
          "base_uri": "https://localhost:8080/"
        },
        "id": "cBikdBFTt99j",
        "outputId": "7aa788c9-4bd1-47e3-bd85-3fa9e56f93c9"
      },
      "execution_count": 3,
      "outputs": [
        {
          "output_type": "stream",
          "name": "stdout",
          "text": [
            "Looking in indexes: https://pypi.org/simple, https://us-python.pkg.dev/colab-wheels/public/simple/\n",
            "Collecting keystone-engine\n",
            "  Downloading keystone_engine-0.9.2-py2.py3-none-manylinux1_x86_64.whl (1.8 MB)\n",
            "\u001b[K     |████████████████████████████████| 1.8 MB 5.4 MB/s \n",
            "\u001b[?25hCollecting capstone\n",
            "  Downloading capstone-4.0.2-py2.py3-none-manylinux1_x86_64.whl (2.1 MB)\n",
            "\u001b[K     |████████████████████████████████| 2.1 MB 33.8 MB/s \n",
            "\u001b[?25hCollecting unicorn\n",
            "  Downloading unicorn-2.0.0-py2.py3-none-manylinux1_x86_64.manylinux_2_17_x86_64.manylinux2014_x86_64.whl (16.1 MB)\n",
            "\u001b[K     |████████████████████████████████| 16.1 MB 39.3 MB/s \n",
            "\u001b[?25hInstalling collected packages: unicorn, keystone-engine, capstone\n",
            "Successfully installed capstone-4.0.2 keystone-engine-0.9.2 unicorn-2.0.0\n"
          ]
        }
      ]
    },
    {
      "cell_type": "markdown",
      "source": [
        "# **Assembling ARM**"
      ],
      "metadata": {
        "id": "uYOmOuMvuLfr"
      }
    },
    {
      "cell_type": "code",
      "source": [
        "# We need to emulate ARM\n",
        "from unicorn import Uc, UC_ARCH_ARM, UC_MODE_ARM, UcError\n",
        "# for accessing the R0 and R1 registers\n",
        "from unicorn.arm_const import UC_ARM_REG_R0, UC_ARM_REG_R1\n",
        "# We need to assemble ARM code\n",
        "from keystone import Ks, KS_ARCH_ARM, KS_MODE_ARM, KsError"
      ],
      "metadata": {
        "id": "m83HIguDuBTw"
      },
      "execution_count": 4,
      "outputs": []
    }
  ]
}