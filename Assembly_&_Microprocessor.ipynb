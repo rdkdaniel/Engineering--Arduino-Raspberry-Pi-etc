{
  "nbformat": 4,
  "nbformat_minor": 0,
  "metadata": {
    "colab": {
      "name": "Assembly & Microprocessor",
      "provenance": [],
      "authorship_tag": "ABX9TyO9BvdC//8upLa0iPX0kJmj",
      "include_colab_link": true
    },
    "kernelspec": {
      "name": "python3",
      "display_name": "Python 3"
    },
    "language_info": {
      "name": "python"
    }
  },
  "cells": [
    {
      "cell_type": "markdown",
      "metadata": {
        "id": "view-in-github",
        "colab_type": "text"
      },
      "source": [
        "<a href=\"https://colab.research.google.com/github/rdkdaniel/Engineering--Arduino-Raspberry-Pi-etc/blob/main/Assembly_%26_Microprocessor.ipynb\" target=\"_parent\"><img src=\"https://colab.research.google.com/assets/colab-badge.svg\" alt=\"Open In Colab\"/></a>"
      ]
    },
    {
      "cell_type": "markdown",
      "source": [
        "Key links: https://tonybaloney.github.io/posts/extending-python-with-assembly.html\n",
        "\n",
        "https://specbranch.com/posts/python-and-asm/"
      ],
      "metadata": {
        "id": "YpLemnHXqYQC"
      }
    },
    {
      "cell_type": "markdown",
      "source": [
        "**Python extensions in assembly language**"
      ],
      "metadata": {
        "id": "NWPpxXSlqcqk"
      }
    },
    {
      "cell_type": "markdown",
      "source": [
        "**Python is similar to assembly langua**ge"
      ],
      "metadata": {
        "id": "RruUmX4Dq3Vo"
      }
    },
    {
      "cell_type": "code",
      "execution_count": null,
      "metadata": {
        "colab": {
          "base_uri": "https://localhost:8080/",
          "height": 133
        },
        "id": "9iUJuJOpFlPS",
        "outputId": "9940b1e7-17b6-41ba-f130-0f832f33b156"
      },
      "outputs": [
        {
          "output_type": "error",
          "ename": "SyntaxError",
          "evalue": "ignored",
          "traceback": [
            "\u001b[0;36m  File \u001b[0;32m\"<ipython-input-1-1ff4e59d8166>\"\u001b[0;36m, line \u001b[0;32m1\u001b[0m\n\u001b[0;31m    Key links: https://tonybaloney.github.io/posts/extending-python-with-assembly.html\u001b[0m\n\u001b[0m            ^\u001b[0m\n\u001b[0;31mSyntaxError\u001b[0m\u001b[0;31m:\u001b[0m invalid syntax\n"
          ]
        }
      ],
      "source": [
        "Key links: https://tonybaloney.github.io/posts/extending-python-with-assembly.html\n",
        "\n",
        "https://specbranch.com/posts/python-and-asm/"
      ]
    },
    {
      "cell_type": "markdown",
      "source": [
        "# **Assembly, Disassembly and Emulation using Python**"
      ],
      "metadata": {
        "id": "vL_9XFYXt6c7"
      }
    },
    {
      "cell_type": "code",
      "source": [
        "#https://www.thepythoncode.com/article/arm-x86-64-assembly-disassembly-and-emulation-in-python"
      ],
      "metadata": {
        "id": "QiSejenyt7h7"
      },
      "execution_count": 1,
      "outputs": []
    },
    {
      "cell_type": "code",
      "source": [
        "!pip3 install keystone-engine capstone unicorn"
      ],
      "metadata": {
        "colab": {
          "base_uri": "https://localhost:8080/"
        },
        "id": "cBikdBFTt99j",
        "outputId": "7aa788c9-4bd1-47e3-bd85-3fa9e56f93c9"
      },
      "execution_count": 3,
      "outputs": [
        {
          "output_type": "stream",
          "name": "stdout",
          "text": [
            "Looking in indexes: https://pypi.org/simple, https://us-python.pkg.dev/colab-wheels/public/simple/\n",
            "Collecting keystone-engine\n",
            "  Downloading keystone_engine-0.9.2-py2.py3-none-manylinux1_x86_64.whl (1.8 MB)\n",
            "\u001b[K     |████████████████████████████████| 1.8 MB 5.4 MB/s \n",
            "\u001b[?25hCollecting capstone\n",
            "  Downloading capstone-4.0.2-py2.py3-none-manylinux1_x86_64.whl (2.1 MB)\n",
            "\u001b[K     |████████████████████████████████| 2.1 MB 33.8 MB/s \n",
            "\u001b[?25hCollecting unicorn\n",
            "  Downloading unicorn-2.0.0-py2.py3-none-manylinux1_x86_64.manylinux_2_17_x86_64.manylinux2014_x86_64.whl (16.1 MB)\n",
            "\u001b[K     |████████████████████████████████| 16.1 MB 39.3 MB/s \n",
            "\u001b[?25hInstalling collected packages: unicorn, keystone-engine, capstone\n",
            "Successfully installed capstone-4.0.2 keystone-engine-0.9.2 unicorn-2.0.0\n"
          ]
        }
      ]
    },
    {
      "cell_type": "markdown",
      "source": [
        "# **Assembling ARM**"
      ],
      "metadata": {
        "id": "uYOmOuMvuLfr"
      }
    },
    {
      "cell_type": "code",
      "source": [
        "# We need to emulate ARM\n",
        "from unicorn import Uc, UC_ARCH_ARM, UC_MODE_ARM, UcError\n",
        "# for accessing the R0 and R1 registers\n",
        "from unicorn.arm_const import UC_ARM_REG_R0, UC_ARM_REG_R1\n",
        "# We need to assemble ARM code\n",
        "from keystone import Ks, KS_ARCH_ARM, KS_MODE_ARM, KsError"
      ],
      "metadata": {
        "id": "m83HIguDuBTw"
      },
      "execution_count": 4,
      "outputs": []
    },
    {
      "cell_type": "markdown",
      "source": [
        "**RM assembly code, which calculates factorial(r0), where r0 is an input register**"
      ],
      "metadata": {
        "id": "6LfuGnWguUvV"
      }
    },
    {
      "cell_type": "code",
      "source": [
        "ARM_CODE = \"\"\"\n",
        "// n is r0, we will pass it from python, ans is r1\n",
        "mov r1, 1       \t// ans = 1\n",
        "loop:\n",
        "cmp r0, 0       \t// while n >= 0:\n",
        "mulgt r1, r1, r0\t//   ans *= n\n",
        "subgt r0, r0, 1 \t//   n = n - 1\n",
        "bgt loop        \t// \n",
        "                \t// answer is in r1\n",
        "\"\"\""
      ],
      "metadata": {
        "id": "7xOdCaJ3uWUe"
      },
      "execution_count": 5,
      "outputs": []
    },
    {
      "cell_type": "markdown",
      "source": [
        "**Assemble the above Assembly code (convert it into bytecode)**"
      ],
      "metadata": {
        "id": "uTjpTkG1ubg7"
      }
    },
    {
      "cell_type": "code",
      "source": [
        "print(\"Assembling the ARM code\")\n",
        "try:\n",
        "    # initialize the keystone object with the ARM architecture\n",
        "    ks = Ks(KS_ARCH_ARM, KS_MODE_ARM)\n",
        "    # Assemble the ARM code\n",
        "    ARM_BYTECODE, _ = ks.asm(ARM_CODE)\n",
        "\t# convert the array of integers into bytes\n",
        "    ARM_BYTECODE = bytes(ARM_BYTECODE)\n",
        "    print(f\"Code successfully assembled (length = {len(ARM_BYTECODE)})\")\n",
        "    print(\"ARM bytecode:\", ARM_BYTECODE)\n",
        "except KsError as e:\n",
        "    print(\"Keystone Error: %s\" % e)\n",
        "    exit(1)"
      ],
      "metadata": {
        "colab": {
          "base_uri": "https://localhost:8080/"
        },
        "id": "XbDfR_ZvudX9",
        "outputId": "d95d7625-c097-4696-8a38-e86a55fbbb39"
      },
      "execution_count": 6,
      "outputs": [
        {
          "output_type": "stream",
          "name": "stdout",
          "text": [
            "Assembling the ARM code\n",
            "Code successfully assembled (length = 20)\n",
            "ARM bytecode: b'\\x01\\x10\\xa0\\xe3\\x00\\x00P\\xe3\\x91\\x00\\x01\\xc0\\x01\\x00@\\xc2\\xfb\\xff\\xff\\xca'\n"
          ]
        }
      ]
    },
    {
      "cell_type": "markdown",
      "source": [
        "The function Ks returns an Assembler in ARM mode, the asm() method assembles the code, and returns the bytes, and the number of instructions it assembled.\n",
        "\n",
        "The bytecode can now be written on a memory region, and be executed by an ARM processor (or emulated, in our case):"
      ],
      "metadata": {
        "id": "JIjJbSlCuk7W"
      }
    },
    {
      "cell_type": "code",
      "source": [
        "# memory address where emulation starts\n",
        "ADDRESS = 0x1000000\n",
        "\n",
        "print(\"Emulating the ARM code\")\n",
        "try:\n",
        "    # Initialize emulator in ARM mode\n",
        "    mu = Uc(UC_ARCH_ARM, UC_MODE_ARM)\n",
        "    # map 2MB memory for this emulation\n",
        "    mu.mem_map(ADDRESS, 2 * 1024 * 1024)\n",
        "    # write machine code to be emulated to memory\n",
        "    mu.mem_write(ADDRESS, ARM_BYTECODE)\n",
        "    # Set the r0 register in the code, let's calculate factorial(5)\n",
        "    mu.reg_write(UC_ARM_REG_R0, 5)\n",
        "    # emulate code in infinite time and unlimited instructions\n",
        "    mu.emu_start(ADDRESS, ADDRESS + len(ARM_BYTECODE))\n",
        "    # now print out the R0 register\n",
        "    print(\"Emulation done. Below is the result\")\n",
        "    # retrieve the result from the R1 register\n",
        "    r1 = mu.reg_read(UC_ARM_REG_R1)\n",
        "    print(\">>  R1 = %u\" % r1)\n",
        "except UcError as e:\n",
        "    print(\"Unicorn Error: %s\" % e)"
      ],
      "metadata": {
        "colab": {
          "base_uri": "https://localhost:8080/"
        },
        "id": "E2e8cfLculuK",
        "outputId": "e4232738-98c6-41bd-d948-07282161f96b"
      },
      "execution_count": 7,
      "outputs": [
        {
          "output_type": "stream",
          "name": "stdout",
          "text": [
            "Emulating the ARM code\n",
            "Emulation done. Below is the result\n",
            ">>  R1 = 120\n"
          ]
        }
      ]
    },
    {
      "cell_type": "markdown",
      "source": [
        "# **Disassembling x86-64 code**"
      ],
      "metadata": {
        "id": "Rx6DXoo3uxO0"
      }
    },
    {
      "cell_type": "code",
      "source": [
        "# We need to emulate ARM and x86 code\n",
        "from unicorn import Uc, UC_ARCH_X86, UC_MODE_64, UcError\n",
        "# for accessing the RAX and RDI registers\n",
        "from unicorn.x86_const import UC_X86_REG_RDI, UC_X86_REG_RAX\n",
        "# We need to disassemble x86_64 code\n",
        "from capstone import Cs, CS_ARCH_X86, CS_MODE_64, CsError\n",
        "\n",
        "X86_MACHINE_CODE = b\"\\x48\\x31\\xc0\\x48\\xff\\xc0\\x48\\x85\\xff\\x0f\\x84\\x0d\\x00\\x00\\x00\\x48\\x99\\x48\\xf7\\xe7\\x48\\xff\\xcf\\xe9\\xea\\xff\\xff\\xff\"\n",
        "# memory address where emulation starts\n",
        "ADDRESS = 0x1000000\n",
        "try:\n",
        "      # Initialize the disassembler in x86 mode\n",
        "      md = Cs(CS_ARCH_X86, CS_MODE_64)\n",
        "      # iterate over each instruction and print it\n",
        "      for instruction in md.disasm(X86_MACHINE_CODE, 0x1000):\n",
        "            print(\"0x%x:\\t%s\\t%s\" % (instruction.address, instruction.mnemonic, instruction.op_str))\n",
        "except CsError as e:\n",
        "      print(\"Capstone Error: %s\" % e)"
      ],
      "metadata": {
        "colab": {
          "base_uri": "https://localhost:8080/"
        },
        "id": "-g5mK2XYuyVS",
        "outputId": "612c0f25-bd4e-41e3-d687-dbe0325e34ad"
      },
      "execution_count": 9,
      "outputs": [
        {
          "output_type": "stream",
          "name": "stdout",
          "text": [
            "0x1000:\txor\trax, rax\n",
            "0x1003:\tinc\trax\n",
            "0x1006:\ttest\trdi, rdi\n",
            "0x1009:\tje\t0x101c\n",
            "0x100f:\tcqo\t\n",
            "0x1011:\tmul\trdi\n",
            "0x1014:\tdec\trdi\n",
            "0x1017:\tjmp\t0x1006\n"
          ]
        }
      ]
    },
    {
      "cell_type": "markdown",
      "source": [
        "**try to emulate it with Unicorn engine**"
      ],
      "metadata": {
        "id": "uAZAsAt6u3JZ"
      }
    },
    {
      "cell_type": "code",
      "source": [
        "try:\n",
        "    # Initialize emulator in x86_64 mode\n",
        "    mu = Uc(UC_ARCH_X86, UC_MODE_64)\n",
        "    # map 2MB memory for this emulation\n",
        "    mu.mem_map(ADDRESS, 2 * 1024 * 1024)\n",
        "    # write machine code to be emulated to memory\n",
        "    mu.mem_write(ADDRESS, X86_MACHINE_CODE)\n",
        "    # Set the r0 register in the code to the number of 7\n",
        "    mu.reg_write(UC_X86_REG_RDI, 7)\n",
        "    # emulate code in infinite time & unlimited instructions\n",
        "    mu.emu_start(ADDRESS, ADDRESS + len(X86_MACHINE_CODE))\n",
        "    # now print out the R0 register\n",
        "    print(\"Emulation done. Below is the result\")\n",
        "    rax = mu.reg_read(UC_X86_REG_RAX)\n",
        "    print(\">>> RAX = %u\" % rax)\n",
        "except UcError as e:\n",
        "    print(\"Unicorn Error: %s\" % e)"
      ],
      "metadata": {
        "colab": {
          "base_uri": "https://localhost:8080/"
        },
        "id": "xUn1MJOHu4uf",
        "outputId": "e90daea4-e776-4432-894d-c2508aea7e74"
      },
      "execution_count": 10,
      "outputs": [
        {
          "output_type": "stream",
          "name": "stdout",
          "text": [
            "Emulation done. Below is the result\n",
            ">>> RAX = 5040\n"
          ]
        }
      ]
    }
  ]
}