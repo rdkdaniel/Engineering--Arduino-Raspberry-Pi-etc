{
  "nbformat": 4,
  "nbformat_minor": 0,
  "metadata": {
    "colab": {
      "name": "Assembly & Microprocessor",
      "provenance": [],
      "authorship_tag": "ABX9TyO0XaRTPfHk6AsOoMwsB8A9",
      "include_colab_link": true
    },
    "kernelspec": {
      "name": "python3",
      "display_name": "Python 3"
    },
    "language_info": {
      "name": "python"
    }
  },
  "cells": [
    {
      "cell_type": "markdown",
      "metadata": {
        "id": "view-in-github",
        "colab_type": "text"
      },
      "source": [
        "<a href=\"https://colab.research.google.com/github/rdkdaniel/Engineering--Arduino-Raspberry-Pi-etc/blob/main/Assembly_%26_Microprocessor.ipynb\" target=\"_parent\"><img src=\"https://colab.research.google.com/assets/colab-badge.svg\" alt=\"Open In Colab\"/></a>"
      ]
    },
    {
      "cell_type": "markdown",
      "source": [
        "Key links: https://tonybaloney.github.io/posts/extending-python-with-assembly.html\n",
        "\n",
        "https://specbranch.com/posts/python-and-asm/"
      ],
      "metadata": {
        "id": "YpLemnHXqYQC"
      }
    },
    {
      "cell_type": "markdown",
      "source": [
        "**Python extensions in assembly language**"
      ],
      "metadata": {
        "id": "NWPpxXSlqcqk"
      }
    },
    {
      "cell_type": "markdown",
      "source": [
        "**Python is similar to assembly langua**ge"
      ],
      "metadata": {
        "id": "RruUmX4Dq3Vo"
      }
    },
    {
      "cell_type": "code",
      "execution_count": 1,
      "metadata": {
        "colab": {
          "base_uri": "https://localhost:8080/",
          "height": 133
        },
        "id": "9iUJuJOpFlPS",
        "outputId": "9940b1e7-17b6-41ba-f130-0f832f33b156"
      },
      "outputs": [
        {
          "output_type": "error",
          "ename": "SyntaxError",
          "evalue": "ignored",
          "traceback": [
            "\u001b[0;36m  File \u001b[0;32m\"<ipython-input-1-1ff4e59d8166>\"\u001b[0;36m, line \u001b[0;32m1\u001b[0m\n\u001b[0;31m    Key links: https://tonybaloney.github.io/posts/extending-python-with-assembly.html\u001b[0m\n\u001b[0m            ^\u001b[0m\n\u001b[0;31mSyntaxError\u001b[0m\u001b[0;31m:\u001b[0m invalid syntax\n"
          ]
        }
      ],
      "source": [
        "Key links: https://tonybaloney.github.io/posts/extending-python-with-assembly.html\n",
        "\n",
        "https://specbranch.com/posts/python-and-asm/"
      ]
    }
  ]
}