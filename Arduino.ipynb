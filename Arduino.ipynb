{
  "nbformat": 4,
  "nbformat_minor": 0,
  "metadata": {
    "colab": {
      "name": "Arduino ",
      "provenance": [],
      "authorship_tag": "ABX9TyOkcBrNEvqrAzO5maflbLZ9",
      "include_colab_link": true
    },
    "kernelspec": {
      "name": "python3",
      "display_name": "Python 3"
    },
    "language_info": {
      "name": "python"
    }
  },
  "cells": [
    {
      "cell_type": "markdown",
      "metadata": {
        "id": "view-in-github",
        "colab_type": "text"
      },
      "source": [
        "<a href=\"https://colab.research.google.com/github/rdkdaniel/Engineering--Arduino-Raspberry-Pi-etc/blob/main/Arduino.ipynb\" target=\"_parent\"><img src=\"https://colab.research.google.com/assets/colab-badge.svg\" alt=\"Open In Colab\"/></a>"
      ]
    },
    {
      "cell_type": "markdown",
      "source": [
        "Key links: https://realpython.com/arduino-python/\n",
        "\n",
        "https://docs.arduino.cc/learn/programming/arduino-and-python"
      ],
      "metadata": {
        "id": "IVpxduWZnlNT"
      }
    },
    {
      "cell_type": "markdown",
      "source": [
        "**Overview:**\n",
        "\n",
        "MicroPython is an implementation of the Python programming language that comes with a subset of the Python standard libraries.\n",
        "\n",
        "It is designed to run on microcontrollers. \n",
        "\n",
        "Pros of MicroPython - easy to learn and good documentation for multiple boards exists.\n",
        "\n",
        "Currently, there are four boards that can be used together with MicroPython."
      ],
      "metadata": {
        "id": "IHEb-RZxnsXV"
      }
    },
    {
      "cell_type": "markdown",
      "source": [
        "\"Arduino officially supports OpenMV's branch of MicroPython, and through the OpenMV IDE you can install MicroPython, connect/disconnect your board and upload your scripts.\""
      ],
      "metadata": {
        "id": "9I8hZ2w0ocB1"
      }
    },
    {
      "cell_type": "markdown",
      "source": [
        "![micropython-supported-boards.png](data:image/png;base64,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)"
      ],
      "metadata": {
        "id": "a9OYMZe5of2q"
      }
    },
    {
      "cell_type": "markdown",
      "source": [
        "There is a difference between programming an Arduino board with the Arduino IDE, using the Arduino programming language (based on C++), and using MicroPython. \n",
        "\n",
        "When uploading what we call a sketch to a board, we first compile the sketch we write, then upload it to the board, replacing the old sketch with a new."
      ],
      "metadata": {
        "id": "aiYsr9VdorAu"
      }
    },
    {
      "cell_type": "markdown",
      "source": [
        "To use MicroPython, we must install it on the board.\n",
        "\n",
        "There after, we load a *script.py*\n",
        "\n",
        "Like one below:"
      ],
      "metadata": {
        "id": "Bn4MC7Gno5jS"
      }
    },
    {
      "cell_type": "code",
      "execution_count": 1,
      "metadata": {
        "colab": {
          "base_uri": "https://localhost:8080/",
          "height": 384
        },
        "id": "w2LTJDILFOIQ",
        "outputId": "8139fb61-00ee-4f27-e145-e44943730f23"
      },
      "outputs": [
        {
          "output_type": "error",
          "ename": "ModuleNotFoundError",
          "evalue": "ignored",
          "traceback": [
            "\u001b[0;31m---------------------------------------------------------------------------\u001b[0m",
            "\u001b[0;31mModuleNotFoundError\u001b[0m                       Traceback (most recent call last)",
            "\u001b[0;32m<ipython-input-1-fe0a065de0c0>\u001b[0m in \u001b[0;36m<module>\u001b[0;34m\u001b[0m\n\u001b[1;32m      1\u001b[0m \u001b[0;32mimport\u001b[0m \u001b[0mtime\u001b[0m\u001b[0;34m\u001b[0m\u001b[0;34m\u001b[0m\u001b[0m\n\u001b[1;32m      2\u001b[0m \u001b[0;34m\u001b[0m\u001b[0m\n\u001b[0;32m----> 3\u001b[0;31m \u001b[0;32mfrom\u001b[0m \u001b[0mmachine\u001b[0m \u001b[0;32mimport\u001b[0m \u001b[0mPin\u001b[0m\u001b[0;34m\u001b[0m\u001b[0;34m\u001b[0m\u001b[0m\n\u001b[0m\u001b[1;32m      4\u001b[0m \u001b[0mled\u001b[0m \u001b[0;34m=\u001b[0m \u001b[0mPin\u001b[0m\u001b[0;34m(\u001b[0m\u001b[0;36m6\u001b[0m\u001b[0;34m,\u001b[0m \u001b[0mPin\u001b[0m\u001b[0;34m.\u001b[0m\u001b[0mOUT\u001b[0m\u001b[0;34m)\u001b[0m\u001b[0;34m\u001b[0m\u001b[0;34m\u001b[0m\u001b[0m\n\u001b[1;32m      5\u001b[0m \u001b[0;32mwhile\u001b[0m \u001b[0;34m(\u001b[0m\u001b[0;32mTrue\u001b[0m\u001b[0;34m)\u001b[0m\u001b[0;34m:\u001b[0m\u001b[0;34m\u001b[0m\u001b[0;34m\u001b[0m\u001b[0m\n",
            "\u001b[0;31mModuleNotFoundError\u001b[0m: No module named 'machine'",
            "",
            "\u001b[0;31m---------------------------------------------------------------------------\u001b[0;32m\nNOTE: If your import is failing due to a missing package, you can\nmanually install dependencies using either !pip or !apt.\n\nTo view examples of installing some common dependencies, click the\n\"Open Examples\" button below.\n\u001b[0;31m---------------------------------------------------------------------------\u001b[0m\n"
          ],
          "errorDetails": {
            "actions": [
              {
                "action": "open_url",
                "actionText": "Open Examples",
                "url": "/notebooks/snippets/importing_libraries.ipynb"
              }
            ]
          }
        }
      ],
      "source": [
        "import time\n",
        "\n",
        "from machine import Pin\n",
        "led = Pin(6, Pin.OUT)\n",
        "while (True):\n",
        "    led.on()\n",
        "    time.sleep_ms(250)\n",
        "    led.off()\n",
        "    time.sleep_ms(250)"
      ]
    },
    {
      "cell_type": "code",
      "source": [],
      "metadata": {
        "id": "adI4C_g9pdqQ"
      },
      "execution_count": null,
      "outputs": []
    }
  ]
}